{
 "cells": [
  {
   "cell_type": "code",
   "execution_count": null,
   "metadata": {},
   "outputs": [],
   "source": [
    "# Importing Libraries\n",
    "import selenium\n",
    "import os\n",
    "from selenium import webdriver\n",
    "from webdrivermanager import ChromeDriverManager\n",
    "import time\n",
    "from selenium.webdriver.common.keys import Keys\n",
    "from getpass import getpass, getuser"
   ]
  },
  {
   "cell_type": "markdown",
   "metadata": {},
   "source": [
    "## Program for Login to instagram.com\n",
    "\n",
    "Replace `raw_input()` to `input()`"
   ]
  },
  {
   "cell_type": "markdown",
   "metadata": {},
   "source": [
    "### For Opening chrome and:\n",
    "1. Opening Webpage of Instagram\n",
    "2. Entering Login Credentials\n",
    "3. Clicking on Login Button"
   ]
  },
  {
   "cell_type": "code",
   "execution_count": null,
   "metadata": {},
   "outputs": [],
   "source": [
    "\"\"\"\n",
    "For the below Procedure You must have the driver downloaded on your system.\n",
    "Download Chrome driver: http://chromedriver.storage.googleapis.com/index.html\n",
    "Then in the executable path. Enter the path of the driver\n",
    "\"\"\"\n",
    "chrome=webdriver.Chrome(executable_path='/home/naman/Downloads/chromedriver_linux64/chromedriver')\n",
    "\n",
    "time.sleep(2)  # to pause the program for 2 seconds\n",
    "\n",
    "chrome.get(\"https://www.instagram.com/\")   # Search the url -> Instagram.com\n",
    "time.sleep(5)\n",
    "#Search for the username field on the webpage\n",
    "username=chrome.find_element_by_xpath('//*[@id=\"react-root\"]/section/main/article/div[2]/div[1]/div/form/div[2]/div/label/input')\n",
    "user_id=\"\"\n",
    "username.send_keys(user_id)\n",
    "\n",
    "# Now Its the time for password\n",
    "\"\"\"\n",
    "Many Users prefer PAssword to be entered every time and no one is able to see them therefore we will ask for the password hiding it from the users.\n",
    "\"\"\"\n",
    "\n",
    "password=chrome.find_element_by_xpath('//*[@id=\"react-root\"]/section/main/article/div[2]/div[1]/div/form/div[3]/div/label/input')\n",
    "pwd=getpass(\"Enter Password\")\n",
    "password.send_keys(pwd)\n",
    "\n",
    "login_btn=chrome.find_element_by_xpath('//*[@id=\"react-root\"]/section/main/article/div[2]/div[1]/div/form/div[4]')\n",
    "login_btn.click()\n",
    "time.sleep(5)\n"
   ]
  },
  {
   "cell_type": "markdown",
   "metadata": {},
   "source": [
    "Sometimes popups arises Asking for permissions of Notifications to avoid that we use the below code:"
   ]
  },
  {
   "cell_type": "code",
   "execution_count": null,
   "metadata": {},
   "outputs": [],
   "source": [
    "# If your instagram shows pop-up like \"Turn ON Notifications run this cell\"\n",
    "dont_allow=chrome.find_element_by_xpath('/html/body/div[4]/div/div/div[3]/button[2]')\n",
    "dont_allow.click()\n",
    "time.sleep(2)"
   ]
  },
  {
   "cell_type": "markdown",
   "metadata": {},
   "source": [
    "Searching for the required page on instagram"
   ]
  },
  {
   "cell_type": "code",
   "execution_count": null,
   "metadata": {},
   "outputs": [],
   "source": [
    "search_user=chrome.find_element_by_xpath('//*[@id=\"react-root\"]/section/nav/div[2]/div/div/div[2]/input')\n",
    "#search_user.click()\n",
    "search_user.send_keys(\"\")  # Enter a username at the place of: food_dilli_blogger\n",
    "time.sleep(2)\n",
    "search_user.send_keys(Keys.ARROW_DOWN)\n",
    "search_user.send_keys(Keys.ENTER)"
   ]
  },
  {
   "cell_type": "markdown",
   "metadata": {},
   "source": [
    "The below code access the first post of the page"
   ]
  },
  {
   "cell_type": "code",
   "execution_count": null,
   "metadata": {},
   "outputs": [],
   "source": [
    "\n",
    "first_post=chrome.find_element_by_xpath('//*[@id=\"react-root\"]/section/main/div/div[3]/article/div[1]/div/div[1]/div[1]/a/div')\n",
    "time.sleep(2)\n",
    "first_post.click()\n",
    "time.sleep(2)\n",
    "# to check the number of posts the page has\n",
    "def no_of_posts():\n",
    "    posts=chrome.find_element_by_xpath('//*[@id=\"react-root\"]/section/main/div/header/section/ul/li[1]/span/span').text\n",
    "    return posts"
   ]
  },
  {
   "cell_type": "code",
   "execution_count": null,
   "metadata": {},
   "outputs": [],
   "source": [
    "nxt_btn=chrome.find_element_by_xpath('/html/body/div[4]/div[1]/div/div/a')\n",
    "i=int(no_of_posts())\n",
    "# Loop to go till the last post\n",
    "while(i>=1):\n",
    "    time.sleep(1)\n",
    "    like_btn=chrome.find_element_by_xpath('/html/body/div[4]/div[2]/div/article/div[2]/section[1]/span[1]/button')\n",
    "    like_btn.click()\n",
    "    time.sleep(1)\n",
    "    nxt_btn.click()\n",
    "    time.sleep(2)\n",
    "    i=i-1\n",
    "# At the last post it closes the posts window and returns to the instagram home page\n",
    "close_btn=chrome.find_element_by_xpath('/html/body/div[4]/div[3]/button')\n",
    "close_btn.click()\n",
    "time.sleep(2)\n",
    "instagram_home=chrome.find_element_by_xpath('//*[@id=\"react-root\"]/section/nav/div[2]/div/div/div[1]/a/div/div')    \n",
    "instagram_home.click()\n",
    "time.sleep(2)\n",
    "\n"
   ]
  },
  {
   "cell_type": "markdown",
   "metadata": {},
   "source": [
    "### To logout the account "
   ]
  },
  {
   "cell_type": "code",
   "execution_count": null,
   "metadata": {},
   "outputs": [],
   "source": [
    "\n",
    "user_home=chrome.find_element_by_xpath('//*[@id=\"react-root\"]/section/nav/div[2]/div/div/div[3]/div/div[5]/a')\n",
    "user_home.click()\n",
    "time.sleep(2)\n",
    "user_settings=chrome.find_element_by_xpath('//*[@id=\"react-root\"]/section/main/div/header/section/div[1]/div/button')\n",
    "user_settings.click()\n",
    "time.sleep(2)\n",
    "log_out=chrome.find_element_by_xpath('/html/body/div[4]/div/div/div/button[9]')\n",
    "time.sleep(1)\n",
    "log_out.click()"
   ]
  }
 ],
 "metadata": {
  "kernelspec": {
   "display_name": "Python 3",
   "language": "python",
   "name": "python3"
  },
  "language_info": {
   "codemirror_mode": {
    "name": "ipython",
    "version": 3
   },
   "file_extension": ".py",
   "mimetype": "text/x-python",
   "name": "python",
   "nbconvert_exporter": "python",
   "pygments_lexer": "ipython3",
   "version": "3.7.5"
  }
 },
 "nbformat": 4,
 "nbformat_minor": 4
}
